{
 "cells": [
  {
   "cell_type": "code",
   "execution_count": 1,
   "metadata": {},
   "outputs": [
    {
     "data": {
      "text/plain": [
       "'\\nProbem with TFIDF and BOW is solved using RNN\\n\\nWhat is the problem\\n===================\\nTFIDF AND bow only captures sequence but not semantic relation which is solved using RNN\\n\\nWhat is semantic Relationship\\n=============================\\nSemantic means capturing the context to draw meaningful information\\n\\nExample to show sematic relation\\n================================\\n\\nStatement 1: I buy nokia mobile\\nStatement 2: I buy nokia phone\\n\\nIf we solve this using TFIDF or BOW method then mobile and phone are treated as different.\\nBoth are lexical different but semantic same but with the help of RNN both lies in the same \\ndomain because context for both is same\\n\\n'"
      ]
     },
     "execution_count": 1,
     "metadata": {},
     "output_type": "execute_result"
    }
   ],
   "source": [
    "\"\"\"\n",
    "Probem with TFIDF and BOW is solved using RNN\n",
    "\n",
    "What is the problem\n",
    "===================\n",
    "TFIDF AND bow only captures sequence but not semantic relation which is solved using RNN\n",
    "\n",
    "What is semantic Relationship\n",
    "=============================\n",
    "Semantic means capturing the context to draw meaningful information\n",
    "\n",
    "Example to show sematic relation\n",
    "================================\n",
    "\n",
    "Statement 1: I buy nokia mobile\n",
    "Statement 2: I buy nokia phone\n",
    "\n",
    "If we solve this using TFIDF or BOW method then mobile and phone are treated as different.\n",
    "Both are lexical different but semantic same but with the help of RNN both lies in the same \n",
    "domain because context for both is same\n",
    "\n",
    "\"\"\""
   ]
  },
  {
   "cell_type": "markdown",
   "metadata": {},
   "source": [
    "## What is RNN"
   ]
  },
  {
   "cell_type": "code",
   "execution_count": 2,
   "metadata": {},
   "outputs": [
    {
     "data": {
      "text/plain": [
       "'\\n\\nrnn means during a specific input to the RNN model not only present input but also \\nprevious output is input back.\\n\\nWhat is the advantage of previous output\\n========================================\\n\\nPrevious output helps to remember the previous context when the present context is fed \\nto the RNN cell. This helps to solve problems where context is to be remembered to draw \\nuseful insights from the statements.\\n\\nExample for RNN\\n===============\\nStatement 1: Rahul is leader of Indian National Congress.\\nStatement 2: Rahul is a good cricketer and member of india cricket team\\n\\nQuestion: TAG Rahul in statement first (name entity recognition)\\n\\nHow to solve this problem\\n=========================\\n\\nOne can define the solution to the problem only if future information i.e leader of Indian \\nNational Congress is known. Because if it is not known it can be simple person or anything else\\nHence one need to remember future context along with past context to give this answer which\\nis easily solved using variant of RNN i.e bidirectional LSTM.\\n\\n**Note**: This is the reason RNN is so powerful.\\n'"
      ]
     },
     "execution_count": 2,
     "metadata": {},
     "output_type": "execute_result"
    }
   ],
   "source": [
    "\"\"\"\n",
    "\n",
    "rnn means during a specific input to the RNN model not only present input but also \n",
    "previous output is input back.\n",
    "\n",
    "What is the advantage of previous output\n",
    "========================================\n",
    "\n",
    "Previous output helps to remember the previous context when the present context is fed \n",
    "to the RNN cell. This helps to solve problems where context is to be remembered to draw \n",
    "useful insights from the statements.\n",
    "\n",
    "Example for RNN\n",
    "===============\n",
    "Statement 1: Rahul is leader of Indian National Congress.\n",
    "Statement 2: Rahul is a good cricketer and member of india cricket team\n",
    "\n",
    "Question: TAG Rahul in statement first (name entity recognition)\n",
    "\n",
    "How to solve this problem\n",
    "=========================\n",
    "\n",
    "One can define the solution to the problem only if future information i.e leader of Indian \n",
    "National Congress is known. Because if it is not known it can be simple person or anything else\n",
    "Hence one need to remember future context along with past context to give this answer which\n",
    "is easily solved using variant of RNN i.e bidirectional LSTM.\n",
    "\n",
    "**Note**: This is the reason RNN is so powerful.\n",
    "\"\"\""
   ]
  },
  {
   "cell_type": "markdown",
   "metadata": {},
   "source": [
    "## Variants of RNN"
   ]
  },
  {
   "cell_type": "code",
   "execution_count": 3,
   "metadata": {},
   "outputs": [
    {
     "data": {
      "text/plain": [
       "'\\n1.) Vanilla RNN\\n2.) LSTM (Long Short Term Memory): For Long Sequences\\n3.) GRU (Gated Recurring Unit): For Short Sequences\\n4.) Bi-LSTM: Past and Future Sequences\\n'"
      ]
     },
     "execution_count": 3,
     "metadata": {},
     "output_type": "execute_result"
    }
   ],
   "source": [
    "\"\"\"\n",
    "1.) Vanilla RNN\n",
    "2.) LSTM (Long Short Term Memory): For Long Sequences\n",
    "3.) GRU (Gated Recurring Unit): For Short Sequences\n",
    "4.) Bi-LSTM: Past and Future Sequences\n",
    "\"\"\""
   ]
  },
  {
   "cell_type": "markdown",
   "metadata": {},
   "source": [
    "## Types of RNN"
   ]
  },
  {
   "cell_type": "code",
   "execution_count": 6,
   "metadata": {},
   "outputs": [
    {
     "data": {
      "text/plain": [
       "'\\nOne to One: Image classification (Binary Classification)\\n\\nOne to Many: Image captioning, Generating Music based on Mood\\n\\nMany to Many: Language Modelling (Auto Complete), Chatbots, Machine Translation\\n\\nMany to One: Sentimental Analysis\\n\\n'"
      ]
     },
     "execution_count": 6,
     "metadata": {},
     "output_type": "execute_result"
    }
   ],
   "source": [
    "\"\"\"\n",
    "One to One: Image classification (Binary Classification)\n",
    "\n",
    "One to Many: Image captioning, Generating Music based on Mood\n",
    "\n",
    "Many to Many: Language Modelling (Auto Complete), Chatbots, Machine Translation\n",
    "\n",
    "Many to One: Sentimental Analysis\n",
    "\n",
    "\"\"\""
   ]
  }
 ],
 "metadata": {
  "kernelspec": {
   "display_name": "Python 3",
   "language": "python",
   "name": "python3"
  },
  "language_info": {
   "codemirror_mode": {
    "name": "ipython",
    "version": 3
   },
   "file_extension": ".py",
   "mimetype": "text/x-python",
   "name": "python",
   "nbconvert_exporter": "python",
   "pygments_lexer": "ipython3",
   "version": "3.6.9"
  }
 },
 "nbformat": 4,
 "nbformat_minor": 4
}
