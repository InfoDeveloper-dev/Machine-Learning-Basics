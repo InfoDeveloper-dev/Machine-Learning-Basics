{
 "cells": [
  {
   "cell_type": "markdown",
   "metadata": {},
   "source": [
    "## Introduction"
   ]
  },
  {
   "cell_type": "code",
   "execution_count": 1,
   "metadata": {},
   "outputs": [
    {
     "data": {
      "text/plain": [
       "'\\nEnsemble method means applying different decision trees together.\\nIdea to apply different trees together is to improve the model and makes it better model.\\nThese decision trees are slow learners and together they creates model which is fast learner.\\n\\nWhat Ensemble Method Solves\\n===========================\\nIt solves the problem of overfitting.\\n\\nWhat is overfitting\\n===================\\nOverfitting means when testing accuracy is less than training accuracy.\\n\\nDifferent Ensemble Methods\\n==========================\\n1.) Random forest\\n2.) Bagging\\n3.) Boosting\\n4.) Stacking\\n'"
      ]
     },
     "execution_count": 1,
     "metadata": {},
     "output_type": "execute_result"
    }
   ],
   "source": [
    "\"\"\"\n",
    "Ensemble method means applying different decision trees together.\n",
    "Idea to apply different trees together is to improve the model and makes it better model.\n",
    "These decision trees are slow learners and together they creates model which is fast learner.\n",
    "\n",
    "What Ensemble Method Solves\n",
    "===========================\n",
    "It solves the problem of overfitting.\n",
    "\n",
    "What is overfitting\n",
    "===================\n",
    "Overfitting means when testing accuracy is less than training accuracy.\n",
    "\n",
    "Different Ensemble Methods\n",
    "==========================\n",
    "1.) Random forest\n",
    "2.) Bagging\n",
    "3.) Boosting\n",
    "4.) Stacking\n",
    "\"\"\""
   ]
  },
  {
   "cell_type": "markdown",
   "metadata": {},
   "source": [
    "## Method 1: Random Forest"
   ]
  },
  {
   "cell_type": "code",
   "execution_count": null,
   "metadata": {},
   "outputs": [],
   "source": [
    "\"\"\"\n",
    "How Random Forest works\n",
    "=======================\n",
    "Technique Used: Bootstrap with replacement (Statistical Technique for randomnly selecting data points)\n",
    "Algorithm Used: Decision trees\n",
    "\n",
    "How it works\n",
    "============\n",
    "For each set of samples which is taken out with replacement that is those samples can be used again\n",
    "For each set of samples number of features taken out is sqrt(total features or variables)\n",
    "\n",
    "\"\"\""
   ]
  }
 ],
 "metadata": {
  "kernelspec": {
   "display_name": "Python 3",
   "language": "python",
   "name": "python3"
  },
  "language_info": {
   "codemirror_mode": {
    "name": "ipython",
    "version": 3
   },
   "file_extension": ".py",
   "mimetype": "text/x-python",
   "name": "python",
   "nbconvert_exporter": "python",
   "pygments_lexer": "ipython3",
   "version": "3.6.12"
  }
 },
 "nbformat": 4,
 "nbformat_minor": 4
}
