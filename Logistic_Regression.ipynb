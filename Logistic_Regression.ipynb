{
 "cells": [
  {
   "cell_type": "code",
   "execution_count": 1,
   "metadata": {},
   "outputs": [
    {
     "data": {
      "text/plain": [
       "'\\nWhere logistic regression is used\\nwhere the result is categorical and binary\\nwe make the use of odds ratio and conditional probabilityto develop the equation\\n\\nHow to make the Logistic Regression Equation\\n============================================\\nStep 1: Odds Ratio is calculated as probability of success to probability of failure.\\nStep 2: Now calculate logs odd.\\nStep 3: Equate logs odd = y where y = P(y|x) where y is conditional probability that         independent variable has occured and probability of dependent variable is calculated\\nStep 4: log(p/1-p) = y\\n         p/1-p = e**y\\n         1-p/p = 1/e**y\\n         (1/p)-1 = 1/e**y\\n         1/p = 1/e**y + 1\\n         p = e**y/1+e**y\\n         where p is the probability of success\\n'"
      ]
     },
     "execution_count": 1,
     "metadata": {},
     "output_type": "execute_result"
    }
   ],
   "source": [
    "\"\"\"\n",
    "Where logistic regression is used\n",
    "where the result is categorical and binary\n",
    "we make the use of odds ratio and conditional probabilityto develop the equation\n",
    "\n",
    "How to make the Logistic Regression Equation\n",
    "============================================\n",
    "Step 1: Odds Ratio is calculated as probability of success to probability of failure.\n",
    "Step 2: Now calculate logs odd.\n",
    "Step 3: Equate logs odd = y where y = b0+b1x1+b2x2+................ \\\n",
    "        independent variable has occured and probability of dependent variable is calculated\n",
    "Step 4: log(p/1-p) = y\n",
    "         p/1-p = e**y\n",
    "         1-p/p = 1/e**y\n",
    "         (1/p)-1 = 1/e**y\n",
    "         1/p = 1/e**y + 1\n",
    "         p = e**y/1+e**y\n",
    "         where p is the probability of success\n",
    "\"\"\""
   ]
  },
  {
   "cell_type": "code",
   "execution_count": 11,
   "metadata": {},
   "outputs": [],
   "source": [
    "import pandas as pd\n",
    "import statsmodels.formula.api as smf\n",
    "import statsmodels.api as sm"
   ]
  },
  {
   "cell_type": "code",
   "execution_count": 4,
   "metadata": {},
   "outputs": [],
   "source": [
    "columns = ['preg', 'plas', 'pres', 'skin', 'test', 'mass', 'pedi', 'age', 'class_name']\n",
    "diabetes_csv_file = pd.read_csv('pima-indians-diabetes.csv', names=columns)"
   ]
  },
  {
   "cell_type": "code",
   "execution_count": 5,
   "metadata": {},
   "outputs": [
    {
     "data": {
      "text/html": [
       "<div>\n",
       "<style scoped>\n",
       "    .dataframe tbody tr th:only-of-type {\n",
       "        vertical-align: middle;\n",
       "    }\n",
       "\n",
       "    .dataframe tbody tr th {\n",
       "        vertical-align: top;\n",
       "    }\n",
       "\n",
       "    .dataframe thead th {\n",
       "        text-align: right;\n",
       "    }\n",
       "</style>\n",
       "<table border=\"1\" class=\"dataframe\">\n",
       "  <thead>\n",
       "    <tr style=\"text-align: right;\">\n",
       "      <th></th>\n",
       "      <th>preg</th>\n",
       "      <th>plas</th>\n",
       "      <th>pres</th>\n",
       "      <th>skin</th>\n",
       "      <th>test</th>\n",
       "      <th>mass</th>\n",
       "      <th>pedi</th>\n",
       "      <th>age</th>\n",
       "      <th>class_name</th>\n",
       "    </tr>\n",
       "  </thead>\n",
       "  <tbody>\n",
       "    <tr>\n",
       "      <th>0</th>\n",
       "      <td>6</td>\n",
       "      <td>148</td>\n",
       "      <td>72</td>\n",
       "      <td>35</td>\n",
       "      <td>0</td>\n",
       "      <td>33.6</td>\n",
       "      <td>0.627</td>\n",
       "      <td>50</td>\n",
       "      <td>1</td>\n",
       "    </tr>\n",
       "    <tr>\n",
       "      <th>1</th>\n",
       "      <td>1</td>\n",
       "      <td>85</td>\n",
       "      <td>66</td>\n",
       "      <td>29</td>\n",
       "      <td>0</td>\n",
       "      <td>26.6</td>\n",
       "      <td>0.351</td>\n",
       "      <td>31</td>\n",
       "      <td>0</td>\n",
       "    </tr>\n",
       "    <tr>\n",
       "      <th>2</th>\n",
       "      <td>8</td>\n",
       "      <td>183</td>\n",
       "      <td>64</td>\n",
       "      <td>0</td>\n",
       "      <td>0</td>\n",
       "      <td>23.3</td>\n",
       "      <td>0.672</td>\n",
       "      <td>32</td>\n",
       "      <td>1</td>\n",
       "    </tr>\n",
       "    <tr>\n",
       "      <th>3</th>\n",
       "      <td>1</td>\n",
       "      <td>89</td>\n",
       "      <td>66</td>\n",
       "      <td>23</td>\n",
       "      <td>94</td>\n",
       "      <td>28.1</td>\n",
       "      <td>0.167</td>\n",
       "      <td>21</td>\n",
       "      <td>0</td>\n",
       "    </tr>\n",
       "    <tr>\n",
       "      <th>4</th>\n",
       "      <td>0</td>\n",
       "      <td>137</td>\n",
       "      <td>40</td>\n",
       "      <td>35</td>\n",
       "      <td>168</td>\n",
       "      <td>43.1</td>\n",
       "      <td>2.288</td>\n",
       "      <td>33</td>\n",
       "      <td>1</td>\n",
       "    </tr>\n",
       "  </tbody>\n",
       "</table>\n",
       "</div>"
      ],
      "text/plain": [
       "   preg  plas  pres  skin  test  mass   pedi  age  class_name\n",
       "0     6   148    72    35     0  33.6  0.627   50           1\n",
       "1     1    85    66    29     0  26.6  0.351   31           0\n",
       "2     8   183    64     0     0  23.3  0.672   32           1\n",
       "3     1    89    66    23    94  28.1  0.167   21           0\n",
       "4     0   137    40    35   168  43.1  2.288   33           1"
      ]
     },
     "execution_count": 5,
     "metadata": {},
     "output_type": "execute_result"
    }
   ],
   "source": [
    "diabetes_csv_file.head(5)"
   ]
  },
  {
   "cell_type": "code",
   "execution_count": 6,
   "metadata": {},
   "outputs": [],
   "source": [
    "# converting the overall dataset into X(predictors) and y(target)\n",
    "diabetes_csv_file_copy = diabetes_csv_file.copy()\n",
    "data = diabetes_csv_file_copy.drop(['class_name'], axis=1)\n",
    "target = diabetes_csv_file['class_name']"
   ]
  },
  {
   "cell_type": "code",
   "execution_count": 12,
   "metadata": {},
   "outputs": [],
   "source": [
    "diabetics_logit = smf.glm(formula='class_name ~ preg + plas + pres + skin + test + mass + pedi + age', \n",
    "                          data=diabetes_csv_file_copy, family=sm.families.Binomial())\n"
   ]
  },
  {
   "cell_type": "code",
   "execution_count": 13,
   "metadata": {},
   "outputs": [],
   "source": [
    "diabetics_logit_fit = diabetics_logit.fit()"
   ]
  },
  {
   "cell_type": "code",
   "execution_count": 16,
   "metadata": {},
   "outputs": [
    {
     "data": {
      "text/html": [
       "<table class=\"simpletable\">\n",
       "<caption>Generalized Linear Model Regression Results</caption>\n",
       "<tr>\n",
       "  <th>Dep. Variable:</th>      <td>class_name</td>    <th>  No. Observations:  </th>  <td>   768</td> \n",
       "</tr>\n",
       "<tr>\n",
       "  <th>Model:</th>                  <td>GLM</td>       <th>  Df Residuals:      </th>  <td>   759</td> \n",
       "</tr>\n",
       "<tr>\n",
       "  <th>Model Family:</th>        <td>Binomial</td>     <th>  Df Model:          </th>  <td>     8</td> \n",
       "</tr>\n",
       "<tr>\n",
       "  <th>Link Function:</th>         <td>logit</td>      <th>  Scale:             </th> <td>  1.0000</td>\n",
       "</tr>\n",
       "<tr>\n",
       "  <th>Method:</th>                <td>IRLS</td>       <th>  Log-Likelihood:    </th> <td> -361.72</td>\n",
       "</tr>\n",
       "<tr>\n",
       "  <th>Date:</th>            <td>Sun, 11 Oct 2020</td> <th>  Deviance:          </th> <td>  723.45</td>\n",
       "</tr>\n",
       "<tr>\n",
       "  <th>Time:</th>                <td>12:56:37</td>     <th>  Pearson chi2:      </th>  <td>  836.</td> \n",
       "</tr>\n",
       "<tr>\n",
       "  <th>No. Iterations:</th>          <td>5</td>        <th>                     </th>     <td> </td>   \n",
       "</tr>\n",
       "<tr>\n",
       "  <th>Covariance Type:</th>     <td>nonrobust</td>    <th>                     </th>     <td> </td>   \n",
       "</tr>\n",
       "</table>\n",
       "<table class=\"simpletable\">\n",
       "<tr>\n",
       "      <td></td>         <th>coef</th>     <th>std err</th>      <th>z</th>      <th>P>|z|</th>  <th>[0.025</th>    <th>0.975]</th>  \n",
       "</tr>\n",
       "<tr>\n",
       "  <th>Intercept</th> <td>   -8.4047</td> <td>    0.717</td> <td>  -11.728</td> <td> 0.000</td> <td>   -9.809</td> <td>   -7.000</td>\n",
       "</tr>\n",
       "<tr>\n",
       "  <th>preg</th>      <td>    0.1232</td> <td>    0.032</td> <td>    3.840</td> <td> 0.000</td> <td>    0.060</td> <td>    0.186</td>\n",
       "</tr>\n",
       "<tr>\n",
       "  <th>plas</th>      <td>    0.0352</td> <td>    0.004</td> <td>    9.481</td> <td> 0.000</td> <td>    0.028</td> <td>    0.042</td>\n",
       "</tr>\n",
       "<tr>\n",
       "  <th>pres</th>      <td>   -0.0133</td> <td>    0.005</td> <td>   -2.540</td> <td> 0.011</td> <td>   -0.024</td> <td>   -0.003</td>\n",
       "</tr>\n",
       "<tr>\n",
       "  <th>skin</th>      <td>    0.0006</td> <td>    0.007</td> <td>    0.090</td> <td> 0.929</td> <td>   -0.013</td> <td>    0.014</td>\n",
       "</tr>\n",
       "<tr>\n",
       "  <th>test</th>      <td>   -0.0012</td> <td>    0.001</td> <td>   -1.322</td> <td> 0.186</td> <td>   -0.003</td> <td>    0.001</td>\n",
       "</tr>\n",
       "<tr>\n",
       "  <th>mass</th>      <td>    0.0897</td> <td>    0.015</td> <td>    5.945</td> <td> 0.000</td> <td>    0.060</td> <td>    0.119</td>\n",
       "</tr>\n",
       "<tr>\n",
       "  <th>pedi</th>      <td>    0.9452</td> <td>    0.299</td> <td>    3.160</td> <td> 0.002</td> <td>    0.359</td> <td>    1.531</td>\n",
       "</tr>\n",
       "<tr>\n",
       "  <th>age</th>       <td>    0.0149</td> <td>    0.009</td> <td>    1.593</td> <td> 0.111</td> <td>   -0.003</td> <td>    0.033</td>\n",
       "</tr>\n",
       "</table>"
      ],
      "text/plain": [
       "<class 'statsmodels.iolib.summary.Summary'>\n",
       "\"\"\"\n",
       "                 Generalized Linear Model Regression Results                  \n",
       "==============================================================================\n",
       "Dep. Variable:             class_name   No. Observations:                  768\n",
       "Model:                            GLM   Df Residuals:                      759\n",
       "Model Family:                Binomial   Df Model:                            8\n",
       "Link Function:                  logit   Scale:                          1.0000\n",
       "Method:                          IRLS   Log-Likelihood:                -361.72\n",
       "Date:                Sun, 11 Oct 2020   Deviance:                       723.45\n",
       "Time:                        12:56:37   Pearson chi2:                     836.\n",
       "No. Iterations:                     5                                         \n",
       "Covariance Type:            nonrobust                                         \n",
       "==============================================================================\n",
       "                 coef    std err          z      P>|z|      [0.025      0.975]\n",
       "------------------------------------------------------------------------------\n",
       "Intercept     -8.4047      0.717    -11.728      0.000      -9.809      -7.000\n",
       "preg           0.1232      0.032      3.840      0.000       0.060       0.186\n",
       "plas           0.0352      0.004      9.481      0.000       0.028       0.042\n",
       "pres          -0.0133      0.005     -2.540      0.011      -0.024      -0.003\n",
       "skin           0.0006      0.007      0.090      0.929      -0.013       0.014\n",
       "test          -0.0012      0.001     -1.322      0.186      -0.003       0.001\n",
       "mass           0.0897      0.015      5.945      0.000       0.060       0.119\n",
       "pedi           0.9452      0.299      3.160      0.002       0.359       1.531\n",
       "age            0.0149      0.009      1.593      0.111      -0.003       0.033\n",
       "==============================================================================\n",
       "\"\"\""
      ]
     },
     "execution_count": 16,
     "metadata": {},
     "output_type": "execute_result"
    }
   ],
   "source": [
    "diabetics_logit_fit.summary()"
   ]
  },
  {
   "cell_type": "code",
   "execution_count": 20,
   "metadata": {},
   "outputs": [
    {
     "data": {
      "text/plain": [
       "'\\nInterpretations of coeff\\n------------------------\\nFor preg coeff is 0.1232, it means if preg increases by one unit then logit /log odds will increase by \\n    0.1232, one can get odd ratio from this coefficient hence p/1-p = e^0.1232 which is 1.1311 which implies\\n    that one will see 13% increase in odd ratio which also implies that probability of diabetes will be 13 times\\n    more than probability of not diabetes.\\n'"
      ]
     },
     "execution_count": 20,
     "metadata": {},
     "output_type": "execute_result"
    }
   ],
   "source": [
    "\"\"\"\n",
    "Interpretations of coeff\n",
    "------------------------\n",
    "For preg coeff is 0.1232, it means if preg increases by one unit then logit /log odds will increase by \n",
    "    0.1232, one can get odd ratio from this coefficient hence p/1-p = e^0.1232 which is 1.1311 which implies\n",
    "    that one will see 13% increase in odd ratio which also implies that probability of diabetes will be 13 times\n",
    "    more than probability of not diabetes.\n",
    "\"\"\""
   ]
  },
  {
   "cell_type": "code",
   "execution_count": null,
   "metadata": {},
   "outputs": [],
   "source": []
  }
 ],
 "metadata": {
  "kernelspec": {
   "display_name": "Python 3",
   "language": "python",
   "name": "python3"
  },
  "language_info": {
   "codemirror_mode": {
    "name": "ipython",
    "version": 3
   },
   "file_extension": ".py",
   "mimetype": "text/x-python",
   "name": "python",
   "nbconvert_exporter": "python",
   "pygments_lexer": "ipython3",
   "version": "3.6.12"
  }
 },
 "nbformat": 4,
 "nbformat_minor": 4
}
